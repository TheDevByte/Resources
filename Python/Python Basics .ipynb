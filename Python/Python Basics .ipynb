{
 "cells": [
  {
   "cell_type": "markdown",
   "metadata": {},
   "source": [
    "# If Else \n",
    "### Recall the basic python conditions \n",
    "#### a = b ---------    a != b ----- a < b ---------    a > b ----- a <= b---------   a >= b\n",
    "\n",
    "## Syntax :\n",
    "    if conditions:\n",
    "        statements\n",
    "    else :\n",
    "        statements \n",
    "### Some of the basic examples are follows: -"
   ]
  },
  {
   "cell_type": "code",
   "execution_count": 1,
   "metadata": {},
   "outputs": [
    {
     "name": "stdout",
     "output_type": "stream",
     "text": [
      "not equal\n"
     ]
    }
   ],
   "source": [
    "a = 10     # defining a variable\n",
    "b = 20     # defining a variable\n",
    "if b < a:  # using if statement to check that is the condistion is true \n",
    "    print(True)  # if the condition is true enter the if statement\n",
    "elif a!=b:       # we can use it to check more than one condition individually     \n",
    "    print('not equal')\n",
    "else :           # if none of the conditions is not True then it comes here \n",
    "    print(False)"
   ]
  },
  {
   "cell_type": "code",
   "execution_count": 2,
   "metadata": {},
   "outputs": [
    {
     "name": "stdout",
     "output_type": "stream",
     "text": [
      "True\n"
     ]
    }
   ],
   "source": [
    "if(a < b and a!=b):  # we can use more than one condition using and & or\n",
    "    print(True)\n",
    "elif (a > b or a<20):\n",
    "    print('yes')\n",
    "else:\n",
    "    print(False)"
   ]
  },
  {
   "cell_type": "markdown",
   "metadata": {},
   "source": [
    "#### we can write the code in one line i,e : "
   ]
  },
  {
   "cell_type": "code",
   "execution_count": 3,
   "metadata": {},
   "outputs": [
    {
     "name": "stdout",
     "output_type": "stream",
     "text": [
      "True\n"
     ]
    }
   ],
   "source": [
    "print(True) if b > a else print(False)"
   ]
  },
  {
   "cell_type": "markdown",
   "metadata": {},
   "source": [
    "# While loop \n",
    "\n",
    "## Syntax of while loop \n",
    "    while(condition):\n",
    "        statements"
   ]
  },
  {
   "cell_type": "code",
   "execution_count": 4,
   "metadata": {},
   "outputs": [
    {
     "name": "stdout",
     "output_type": "stream",
     "text": [
      "the value is :  0\n",
      "the value is :  1\n",
      "the value is :  2\n",
      "the value is :  3\n",
      "the value is :  4\n",
      "the value is :  5\n",
      "the value is :  6\n",
      "the value is :  7\n",
      "the value is :  8\n",
      "the end \n"
     ]
    }
   ],
   "source": [
    "var=0 #lets take a variable which value is zero\n",
    "while(var < 9): # in the loop we are initialing some condition \n",
    "    print(\"the value is : \",var) # if condition is True then the following is printed\n",
    "    var+=1                  # increamenting the value by 1\n",
    "print(\"the end \") # after completion of the loop it will be printed "
   ]
  },
  {
   "cell_type": "markdown",
   "metadata": {},
   "source": [
    "# For loop\n",
    "## syntax : \n",
    "    for variable in range/array/list/tuple/dict.. :\n",
    "        statements"
   ]
  },
  {
   "cell_type": "code",
   "execution_count": 5,
   "metadata": {},
   "outputs": [
    {
     "name": "stdout",
     "output_type": "stream",
     "text": [
      "the value is  0\n",
      "the value is  1\n",
      "the value is  2\n",
      "the value is  3\n",
      "the value is  4\n"
     ]
    }
   ],
   "source": [
    "for i in range (5): #range is used when we have to define the limit for how many iteration the loop shold run\n",
    "    print('the value is ',i)"
   ]
  },
  {
   "cell_type": "code",
   "execution_count": 6,
   "metadata": {},
   "outputs": [
    {
     "name": "stdout",
     "output_type": "stream",
     "text": [
      "10\n",
      "11\n",
      "12\n",
      "13\n",
      "14\n"
     ]
    }
   ],
   "source": [
    "for x in range(10,15): # it specify the range i,e here the range is specified from 10 to 14\n",
    "    print(x)"
   ]
  },
  {
   "cell_type": "code",
   "execution_count": 7,
   "metadata": {},
   "outputs": [
    {
     "name": "stdout",
     "output_type": "stream",
     "text": [
      "red\n",
      "yellow\n",
      "orange\n"
     ]
    }
   ],
   "source": [
    "colours = ['red', 'yellow', 'orange']\n",
    "for i in colours: \n",
    "    print(i)"
   ]
  },
  {
   "cell_type": "code",
   "execution_count": 8,
   "metadata": {},
   "outputs": [
    {
     "name": "stdout",
     "output_type": "stream",
     "text": [
      "T\n",
      "h\n",
      "e\n",
      " \n",
      "D\n",
      "e\n",
      "v\n",
      " \n",
      "B\n",
      "y\n",
      "t\n",
      "e\n"
     ]
    }
   ],
   "source": [
    "c = 'The Dev Byte'\n",
    "for i in c: # it seperates each and every letter of the word  \n",
    "    print(i)"
   ]
  },
  {
   "cell_type": "markdown",
   "metadata": {},
   "source": [
    "# Functions\n",
    "### we define a function \n",
    "    def f_name(): \n",
    "        statements\n",
    "### where def is used to define a function and along with that 'f_name' is the function name \n",
    "### Below are some basics example of calling a function  "
   ]
  },
  {
   "cell_type": "code",
   "execution_count": 9,
   "metadata": {},
   "outputs": [
    {
     "name": "stdout",
     "output_type": "stream",
     "text": [
      "Dev Byte\n"
     ]
    }
   ],
   "source": [
    "def fname(): # defining a function \n",
    "    print('Dev Byte')\n",
    "    \n",
    "fname()  # calling a function which results in running the code inside the function "
   ]
  },
  {
   "cell_type": "code",
   "execution_count": 10,
   "metadata": {},
   "outputs": [
    {
     "name": "stdout",
     "output_type": "stream",
     "text": [
      "Harry is a member of dev byte\n",
      "John is a member of dev byte\n"
     ]
    }
   ],
   "source": [
    "def fname(name):  # here we are calling a function with an argument while adding more than one argument separate them wit the help of ','(comma)\n",
    "    print(name + ' is a member of dev byte')\n",
    "fname('Harry')\n",
    "fname('John')"
   ]
  },
  {
   "cell_type": "code",
   "execution_count": 11,
   "metadata": {},
   "outputs": [
    {
     "name": "stdout",
     "output_type": "stream",
     "text": [
      "The youngest child is Linus\n"
     ]
    }
   ],
   "source": [
    "def my_function(*kids): \n",
    "    print(\"The youngest child is \" + kids[2])\n",
    "\n",
    "my_function(\"Emil\", \"Tobias\", \"Linus\") "
   ]
  },
  {
   "cell_type": "markdown",
   "metadata": {},
   "source": [
    "# Lambda \n",
    "## syntax :\n",
    "    lambda arguments : expression \n",
    "### It can take n number of arguments but can have only one expression \n",
    "### Below are some exaples of it "
   ]
  },
  {
   "cell_type": "code",
   "execution_count": 12,
   "metadata": {},
   "outputs": [
    {
     "name": "stdout",
     "output_type": "stream",
     "text": [
      "5\n"
     ]
    }
   ],
   "source": [
    "# using two variable \n",
    "x = lambda y,z : y + z # we are calling a lambda function with 2 arguments but with only one expression i,e + in thhis case\n",
    "print(x(2,3)) # inside the print function we are calling x and in x we are passing the value of y and z  "
   ]
  },
  {
   "cell_type": "markdown",
   "metadata": {},
   "source": [
    "# Data Types \n",
    "## List, Tuple, Set, Dictionary "
   ]
  },
  {
   "cell_type": "markdown",
   "metadata": {},
   "source": [
    "# Dictionaries\n",
    "### Its an unordered collection of data consists of key and value\n",
    "## Syntax : -\n",
    "    dic ={key : value, \n",
    "          key1 : value1\n",
    "          }\n",
    " ### some of the basic examples are : - "
   ]
  },
  {
   "cell_type": "code",
   "execution_count": 13,
   "metadata": {},
   "outputs": [
    {
     "name": "stdout",
     "output_type": "stream",
     "text": [
      "{'name': 'devbyte', 'members': 210, 'active': 'yes'}\n"
     ]
    }
   ],
   "source": [
    "p_info = {'name' : 'devbyte',      \n",
    "         'members' : 210,\n",
    "         'active' : 'yes'}         # we can write the dict in this way where 'name', 'members', 'active' are te keys \n",
    "print(p_info)"
   ]
  },
  {
   "cell_type": "code",
   "execution_count": 17,
   "metadata": {},
   "outputs": [
    {
     "name": "stdout",
     "output_type": "stream",
     "text": [
      "devbyte\n",
      "yes\n"
     ]
    }
   ],
   "source": [
    "print(p_info['name']) # it is used when we want the details of a specific key\n",
    "x=p_info.get('active') # get can also be used to access the elements \n",
    "print(x)"
   ]
  },
  {
   "cell_type": "code",
   "execution_count": 15,
   "metadata": {},
   "outputs": [
    {
     "name": "stdout",
     "output_type": "stream",
     "text": [
      "{'name': 'devbyte', 'members': 250, 'active': 'yes'}\n"
     ]
    }
   ],
   "source": [
    "p_info['members'] = 250 \n",
    "print(p_info)"
   ]
  },
  {
   "cell_type": "markdown",
   "metadata": {},
   "source": [
    "# List \n",
    "## A collection of data which is ordered an changeable\n",
    "### how it is being written : \n",
    "    list=['list1', 'list2', 'list3']\n",
    "### Some of the code snippet is follows : -"
   ]
  },
  {
   "cell_type": "code",
   "execution_count": 22,
   "metadata": {},
   "outputs": [
    {
     "name": "stdout",
     "output_type": "stream",
     "text": [
      "['red', 'blue', 'green', 'orange', 'violet']\n"
     ]
    }
   ],
   "source": [
    "colours=['red', 'blue', 'green','orange', 'violet']\n",
    "print(colours)"
   ]
  },
  {
   "cell_type": "code",
   "execution_count": 32,
   "metadata": {},
   "outputs": [
    {
     "name": "stdout",
     "output_type": "stream",
     "text": [
      "changed\n",
      "orange\n",
      "['changed', 'orange', 'violet']\n",
      "['red', 'blue', 'changed', 'orange']\n",
      "['red', 'blue', 'changed', 'orange', 'violet']\n"
     ]
    }
   ],
   "source": [
    "print(colours[2]) # to access a single element from the list \n",
    "print(colours[-2]) # same as before but it is termed as negative indexing as we use it to select the items from the end\n",
    "print(colours[2:5]) # is being used to select multiple items \n",
    "print(colours[:4]) # is used to select all the items up to the 5 th item ( as in python counting starts from 0 so n+1yh item)\n",
    "colours[2] = 'changed' # in this way we can change the values in a list\n",
    "print(colours)"
   ]
  },
  {
   "cell_type": "markdown",
   "metadata": {},
   "source": [
    "# Tuple\n",
    "## A collection of data that is ordered and unchangeable\n",
    "###  how it is being written : - \n",
    "    tuple = ('tuple1', 'tuple2')\n",
    "### some of the code snippets :- "
   ]
  },
  {
   "cell_type": "code",
   "execution_count": 33,
   "metadata": {},
   "outputs": [
    {
     "name": "stdout",
     "output_type": "stream",
     "text": [
      "('black', 'red', 'blue', 'green')\n"
     ]
    }
   ],
   "source": [
    "color = ('black', 'red', 'blue', 'green')\n",
    "print(color)"
   ]
  },
  {
   "cell_type": "code",
   "execution_count": 34,
   "metadata": {},
   "outputs": [
    {
     "name": "stdout",
     "output_type": "stream",
     "text": [
      "red\n",
      "blue\n",
      "('blue', 'green')\n"
     ]
    }
   ],
   "source": [
    "print(color[1]) # to access a single element\n",
    "print(color[-2]) # to access a single element but with negative indexing\n",
    "print(color[2:5]) # to access multiple items"
   ]
  },
  {
   "cell_type": "markdown",
   "metadata": {},
   "source": [
    "#### to change the items in a tuple we can change the tuple to a list and then we can change it\n",
    "#### lets see the code snippet :-  "
   ]
  },
  {
   "cell_type": "code",
   "execution_count": 35,
   "metadata": {},
   "outputs": [
    {
     "name": "stdout",
     "output_type": "stream",
     "text": [
      "['black', 'changed', 'blue', 'green']\n"
     ]
    }
   ],
   "source": [
    "lst = list(color)\n",
    "lst[1] = 'changed'\n",
    "print(lst)"
   ]
  },
  {
   "cell_type": "markdown",
   "metadata": {},
   "source": [
    "# _Sets_ \n",
    "## _A collection of data which is unordered and unindexed._\n",
    "### how it is being written : -\n",
    "    set = {'set1', 'set2'}\n",
    "#### Some of the code snippet : "
   ]
  },
  {
   "cell_type": "code",
   "execution_count": 42,
   "metadata": {},
   "outputs": [
    {
     "name": "stdout",
     "output_type": "stream",
     "text": [
      "{'blue', 'orange', 'red', 'green'}\n",
      "4\n"
     ]
    }
   ],
   "source": [
    "colors={'red', 'blue', 'green','orange'}\n",
    "print(colors)\n",
    "print(len(colors)) #length of the set"
   ]
  },
  {
   "cell_type": "code",
   "execution_count": 43,
   "metadata": {},
   "outputs": [],
   "source": [
    "colors.remove('orange') # it is used to remove an element from the set\n",
    "colors.discard('orange') # it can aslo be used if remove doesn't work"
   ]
  },
  {
   "cell_type": "code",
   "execution_count": 44,
   "metadata": {},
   "outputs": [
    {
     "name": "stdout",
     "output_type": "stream",
     "text": [
      "{'blue', 'red', 'green'}\n"
     ]
    }
   ],
   "source": [
    "print(colors)"
   ]
  },
  {
   "cell_type": "code",
   "execution_count": 45,
   "metadata": {},
   "outputs": [],
   "source": [
    "var = colors.pop() # removes the last element from the set\n",
    "colors.clear() # it cleans and remove all the elements "
   ]
  },
  {
   "cell_type": "code",
   "execution_count": 47,
   "metadata": {},
   "outputs": [
    {
     "name": "stdout",
     "output_type": "stream",
     "text": [
      "set()\n"
     ]
    }
   ],
   "source": [
    "print(colors) # empty set"
   ]
  },
  {
   "cell_type": "code",
   "execution_count": 48,
   "metadata": {},
   "outputs": [
    {
     "name": "stdout",
     "output_type": "stream",
     "text": [
      "{'blue'}\n"
     ]
    }
   ],
   "source": [
    "colors.add('blue') # adds an element in the set\n",
    "print(colors)"
   ]
  },
  {
   "cell_type": "code",
   "execution_count": 50,
   "metadata": {},
   "outputs": [
    {
     "name": "stdout",
     "output_type": "stream",
     "text": [
      "{'b', 'c', 'a', 'g', 'd', 'h', 'f', 'e'}\n",
      "{'b', 'g', 'a', 'c', 'd', 'h', 'f', 'e'}\n"
     ]
    }
   ],
   "source": [
    "set_a = {'a','b','c','d'}\n",
    "set_b = {'e','f','g','h'}\n",
    "set_final = set_a.union(set_b) # join the 2 sets\n",
    "print(set_final)\n",
    "set_b.update(set_a) # moves the element of set_a to set_b\n",
    "print(set_b)"
   ]
  },
  {
   "cell_type": "markdown",
   "metadata": {},
   "source": [
    "# Operators : -"
   ]
  },
  {
   "cell_type": "markdown",
   "metadata": {},
   "source": [
    "## Arithmetic operators \n",
    " * Addition operator :- \n",
    "     ```.py\n",
    "     c=a+b ```\n",
    " * Subtraction operator :-\n",
    "     ```.py\n",
    "     c=a-b ```\n",
    " * Multiplication operator :-\n",
    "     ```.py\n",
    "     c=a*b ```\n",
    " * Division operator :-\n",
    "     ```.py\n",
    "     c=a/b ```\n",
    " * Modulus operator :-\n",
    "     ```.py\n",
    "     c=a%b ```\n",
    " * Exponent operator :-\n",
    "     ```.py\n",
    "     c=a**b ```\n",
    " * Floor division operator :-\n",
    "     ```.py\n",
    "     c=a//b ```\n"
   ]
  },
  {
   "cell_type": "markdown",
   "metadata": {},
   "source": [
    "## Comparison operators \n",
    " * ==  :-   \n",
    "     ```.py\n",
    "     if(a==b) ```\n",
    " #### It compares the values of two variables\n",
    " * != :-  \n",
    "     ```.py\n",
    "     if(a!=b) ```\n",
    " #### It checks that the value of the two variable should be differnet\n",
    " * '>' :- \n",
    "     ```.py\n",
    "     if(a>b) ```\n",
    " #### cheks the greater value among the two \n",
    " * < :- \n",
    "     ``` .py\n",
    "     if(a<b) ```\n",
    " #### checks the smallest value among the two \n",
    " * '>=' :- \n",
    "     ``` .py\n",
    "     if(a>=b) ```\n",
    " #### checks the if the value is equal to or greater than the other value\n",
    " * <= :- \n",
    "     ```.py\n",
    "     if(a<=b) ```\n",
    " #### checks the if the value is equal to orsmaller than the other value"
   ]
  },
  {
   "cell_type": "markdown",
   "metadata": {},
   "source": [
    "## Assignment operators\n",
    "\n",
    " * = :-\n",
    "#### Equals to \n",
    "    ```.py\n",
    "    c=a+b ```\n",
    " * +=  : -\n",
    "####  adds right operand to the left operand and assign the result to left operand \n",
    "    ```.py\n",
    "    a+=b   is same as a = a+b ``` \n",
    " * -= \n",
    "#### subtracts right operand to the left operand and assign the result to left operand \n",
    "    ```.py\n",
    "    a-=b is same as a=a-b ```\n",
    " * *= \n",
    "#### multiplies right operand to the left operand and assign the result to left operand \n",
    "    ```.py \n",
    "    a*=b is same as a=a*b ```\n",
    " * /= \n",
    "#### divides right operand to the left operand and assign the result to left operand \n",
    "    ```.py \n",
    "    a/=b is same as a=a/b ```\n",
    " *  %= \n",
    "#### modulus of right operand to the left operand and assign the result to left operand \n",
    "    ```.py \n",
    "    a%=b is same as a=a%b```\n",
    " * **= \n",
    "#### exponent of right operand to the left operand and assign the result to left operand \n",
    "    ```.py\n",
    "    a-=b is same as a=a-b ```\n",
    " * //= \n",
    "#### floor division of right operand to the left operand and assign the result to left operand \n",
    "    ``` .py\n",
    "    a//=b is same as a=a//b ``` "
   ]
  },
  {
   "cell_type": "markdown",
   "metadata": {},
   "source": [
    "# Logical Operators\n",
    "\n",
    " * logical AND operator (and) : -\n",
    "    ```.py\n",
    "    if(a and b) ```\n",
    "    \n",
    "#### If both the operands are true then condition becomes true.\n",
    " * logical OR operator  (or) :- \n",
    "     ```.py\n",
    "     if(a or b) ```\n",
    "     \n",
    "#### If any of the two operands are non-zero then condition becomes true."
   ]
  },
  {
   "cell_type": "markdown",
   "metadata": {},
   "source": [
    "## Membership Operators\n",
    " * in :-\n",
    "     ```.py\n",
    "     if(a in b) ```\n",
    "####  \tEvaluates to true if it finds a variable in the specified sequence and false otherwise.\n",
    " * not in :-\n",
    "     ```.py\n",
    "     if(a not in b) ```\n",
    "#### Evaluates to true if it does not finds a variable in the specified sequence and false otherwise."
   ]
  },
  {
   "cell_type": "code",
   "execution_count": null,
   "metadata": {},
   "outputs": [],
   "source": []
  }
 ],
 "metadata": {
  "kernelspec": {
   "display_name": "Python 3.6.9 64-bit",
   "language": "python",
   "name": "python36964bitf63b11862b5b49fb80b3d6b9505d0be0"
  },
  "language_info": {
   "codemirror_mode": {
    "name": "ipython",
    "version": 3
   },
   "file_extension": ".py",
   "mimetype": "text/x-python",
   "name": "python",
   "nbconvert_exporter": "python",
   "pygments_lexer": "ipython3",
   "version": "3.6.9"
  },
  "varInspector": {
   "cols": {
    "lenName": 16,
    "lenType": 16,
    "lenVar": 40
   },
   "kernels_config": {
    "python": {
     "delete_cmd_postfix": "",
     "delete_cmd_prefix": "del ",
     "library": "var_list.py",
     "varRefreshCmd": "print(var_dic_list())"
    },
    "r": {
     "delete_cmd_postfix": ") ",
     "delete_cmd_prefix": "rm(",
     "library": "var_list.r",
     "varRefreshCmd": "cat(var_dic_list()) "
    }
   },
   "types_to_exclude": [
    "module",
    "function",
    "builtin_function_or_method",
    "instance",
    "_Feature"
   ],
   "window_display": false
  }
 },
 "nbformat": 4,
 "nbformat_minor": 4
}
