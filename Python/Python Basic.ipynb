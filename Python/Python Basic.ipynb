{
 "cells": [
  {
   "cell_type": "markdown",
   "metadata": {},
   "source": [
    "# How do Install Python \n",
    "* __For Windows__ :-\n",
    " * Open a browser window and navigate to the Download page for Windows at [python.org](https://www.python.org/downloads/)\n",
    " * check the latest version (recomended 3.6 version)\n",
    " * download the file on your drive\n",
    " * then install it on your pc \n",
    "* __For Linux / Mac__ :-\n",
    " __It is mostly pre-installed on linux but you can check for the update and the version on it by typing the command.__\n",
    "#### check the update version\n",
    " * sudo apt-get update \n",
    " * sudo apt-get install python3.6\n",
    "#### check the python version\n",
    " * python -V or\n",
    " * python3 -V\n",
    " \n",
    "__You can refer to the__ [official doccumentation](https://www.python.org/downloads/) __to download python__"
   ]
  },
  {
   "cell_type": "markdown",
   "metadata": {},
   "source": [
    "# Jupyter Notebook\n",
    "    * pip install jupyter #Install it on the computer\n",
    "    * go to the destination and run the command __jupyter notebook__\n",
    "#### you can refer to the [official documentation](https://jupyter.org/install) to download the jupyter notebook\n",
    "#### How to use jupyter notebook..\n",
    "    * after running the document a webpage will open in your default browser\n",
    "    * after then create a new notebook from the right top corner \n",
    "    * then write the command and press shift + enter to run the cell and create a new cell\n",
    "    * and press alt + enter to run the cell"
   ]
  },
  {
   "cell_type": "markdown",
   "metadata": {},
   "source": [
    "# Variables\n",
    "#### A variable in a python program gives data to the computer for processing. Every value in Python has a datatype. Different data types in Python are: -\n",
    " * Numbers, \n",
    " * List, \n",
    " * Tuple, \n",
    " * Strings, \n",
    " * Dictionary, etc. \n",
    "#### Variables can be declared by any name or even alphabets like a, aa, abc, etc. \n",
    "    ```.py \n",
    "    a=10 # here a is the variable \n",
    "    b=20\n",
    "    c= a+b # we can add two var i,e we are adding the vlaues of two variable and storing it to a diff variable\n",
    "    ```"
   ]
  },
  {
   "cell_type": "markdown",
   "metadata": {},
   "source": [
    "# Comment\n",
    "#### It is being used to describe the code that we are writing like we can write a code in many different ways so commenting will help people to understand the meaning of the code.\n",
    "* exaple: -\n",
    "    ```.py\n",
    "    a=10 #assigning value to a ```\n",
    "  so in this way we can comment in the code"
   ]
  },
  {
   "cell_type": "markdown",
   "metadata": {},
   "source": [
    "# Type Conversion and Type Casting\n",
    "### The process of converting the value of one data type (integer, string, float, etc.) to another data type is called type conversion. \n",
    " * ***Implicit Type Conversion***\n",
    " * ***Explicit Type Conversion***\n",
    " \n",
    "##  **Implicit Type Conversion**\n",
    " #### In Implicit type conversion, Python automatically converts one data type to another data type. "
   ]
  },
  {
   "cell_type": "code",
   "execution_count": 1,
   "metadata": {},
   "outputs": [
    {
     "data": {
      "text/plain": [
       "int"
      ]
     },
     "execution_count": 1,
     "metadata": {},
     "output_type": "execute_result"
    }
   ],
   "source": [
    "a=12\n",
    "b= 1.5 \n",
    "type(a)"
   ]
  },
  {
   "cell_type": "code",
   "execution_count": 2,
   "metadata": {},
   "outputs": [
    {
     "data": {
      "text/plain": [
       "float"
      ]
     },
     "execution_count": 2,
     "metadata": {},
     "output_type": "execute_result"
    }
   ],
   "source": [
    "type(b)"
   ]
  },
  {
   "cell_type": "code",
   "execution_count": 3,
   "metadata": {},
   "outputs": [
    {
     "data": {
      "text/plain": [
       "float"
      ]
     },
     "execution_count": 3,
     "metadata": {},
     "output_type": "execute_result"
    }
   ],
   "source": [
    "c = a+b \n",
    "type(c)"
   ]
  },
  {
   "cell_type": "markdown",
   "metadata": {},
   "source": [
    "##  **Explict Type Conversion**\n",
    "#### In Explicit Type Conversion, users convert the data type of an object to required data type. We use the predefined functions like int(), float(), str(), etc to perform explicit type conversion."
   ]
  },
  {
   "cell_type": "code",
   "execution_count": 5,
   "metadata": {},
   "outputs": [],
   "source": [
    "x = 15 \n",
    "y = 8.4"
   ]
  },
  {
   "cell_type": "code",
   "execution_count": 6,
   "metadata": {},
   "outputs": [
    {
     "data": {
      "text/plain": [
       "int"
      ]
     },
     "execution_count": 6,
     "metadata": {},
     "output_type": "execute_result"
    }
   ],
   "source": [
    "type(x)"
   ]
  },
  {
   "cell_type": "code",
   "execution_count": 7,
   "metadata": {},
   "outputs": [
    {
     "data": {
      "text/plain": [
       "float"
      ]
     },
     "execution_count": 7,
     "metadata": {},
     "output_type": "execute_result"
    }
   ],
   "source": [
    "type(y)"
   ]
  },
  {
   "cell_type": "code",
   "execution_count": 8,
   "metadata": {},
   "outputs": [
    {
     "data": {
      "text/plain": [
       "8"
      ]
     },
     "execution_count": 8,
     "metadata": {},
     "output_type": "execute_result"
    }
   ],
   "source": [
    "z=int(y) # converted float to int \n",
    "z"
   ]
  },
  {
   "cell_type": "code",
   "execution_count": 9,
   "metadata": {},
   "outputs": [
    {
     "data": {
      "text/plain": [
       "15.0"
      ]
     },
     "execution_count": 9,
     "metadata": {},
     "output_type": "execute_result"
    }
   ],
   "source": [
    "float(x) #converted int to float"
   ]
  },
  {
   "cell_type": "markdown",
   "metadata": {},
   "source": [
    "# String\n",
    "### _A list of charaters is called a string_\n"
   ]
  },
  {
   "cell_type": "code",
   "execution_count": 10,
   "metadata": {},
   "outputs": [
    {
     "name": "stdout",
     "output_type": "stream",
     "text": [
      "The Dev byte\n",
      "12\n",
      "e\n",
      "3\n",
      "8\n",
      "h\n",
      "THE DEV BYTE\n",
      "the dev byte\n",
      "e t y b   v e D   e h T\n"
     ]
    }
   ],
   "source": [
    "word = 'The Dev byte'   # we can create a string in this way\n",
    "print(word) # print the string\n",
    "\n",
    "print(len(word)) #print the length of the string\n",
    "\n",
    "print(word[2]) # we will get the 3rd letter of the string \n",
    "\n",
    "print(word.count('e')) # this will print how many times e is there in the string\n",
    "\n",
    "print(word.find('b')) # this will find the letter 'b' in the string \n",
    "\n",
    "print(word[1:2]) #in this way we can slice a string \n",
    "\n",
    "print(word.upper()) # this will make the string in upper case \n",
    "\n",
    "print(word.lower()) # this will make the string in lower case \n",
    "\n",
    "print(' '.join(reversed(word))) # this will print the string in reversed order"
   ]
  },
  {
   "cell_type": "markdown",
   "metadata": {},
   "source": [
    "# **Escape Characters**\n",
    "#### To insert characters that are illegal in a string, we use an escape character like for example : -"
   ]
  },
  {
   "cell_type": "code",
   "execution_count": 11,
   "metadata": {},
   "outputs": [
    {
     "ename": "SyntaxError",
     "evalue": "invalid syntax (<ipython-input-11-234eee4a64a9>, line 2)",
     "output_type": "error",
     "traceback": [
      "\u001b[0;36m  File \u001b[0;32m\"<ipython-input-11-234eee4a64a9>\"\u001b[0;36m, line \u001b[0;32m2\u001b[0m\n\u001b[0;31m    print('we are the members of the 'Dev byte' club')\u001b[0m\n\u001b[0m                                        ^\u001b[0m\n\u001b[0;31mSyntaxError\u001b[0m\u001b[0;31m:\u001b[0m invalid syntax\n"
     ]
    }
   ],
   "source": [
    "# we want to write \" we  are the members of the \"Dev Byte\" club \" \n",
    "print('we are the members of the 'Dev byte' club')"
   ]
  },
  {
   "cell_type": "code",
   "execution_count": 12,
   "metadata": {},
   "outputs": [
    {
     "name": "stdout",
     "output_type": "stream",
     "text": [
      "we are the members of the 'Dev byte' club\n",
      "we are the members of the \"Dev byte\" club\n"
     ]
    }
   ],
   "source": [
    "# to avoid the error we can write the code as \n",
    "print('we are the members of the \\'Dev byte\\' club')\n",
    "print('we are the members of the \"Dev byte\" club')"
   ]
  },
  {
   "cell_type": "markdown",
   "metadata": {},
   "source": [
    "*so in this way we can avoid the error \n",
    "there are many this kind of escape charaters like: -* \n"
   ]
  },
  {
   "cell_type": "markdown",
   "metadata": {},
   "source": [
    "operator | uses\n",
    "------------ | -------------\n",
    "\\'   | Single Quote\n",
    "\\\\   | Backslash\n",
    "\\n \t| New Line   \n",
    "\\r \t| Carriage Return\n",
    "\\t \t| Tab\n",
    "\\b \t| Backspace\n",
    "\\f \t| Form Feed\n",
    "\\ooo \t|Octal value\n",
    "\\xhh \t|Hex value"
   ]
  },
  {
   "cell_type": "markdown",
   "metadata": {},
   "source": [
    "# **Bool function** (bool())\n",
    "#### It is used to return or convert a value to a Boolean value i.e., True or False. If no parameter is passed, then by default it returns False.\n",
    "#### Syntax :-\n",
    "  `x = bool(x)`\n",
    " "
   ]
  },
  {
   "cell_type": "code",
   "execution_count": 14,
   "metadata": {},
   "outputs": [
    {
     "name": "stdout",
     "output_type": "stream",
     "text": [
      "False\n",
      "True\n"
     ]
    }
   ],
   "source": [
    "a = 10 \n",
    "b = 15 \n",
    "print(bool(a==b)) # it returns false as the condition is not true\n",
    "print(bool(a!=b)) # it returns True as the condition is True"
   ]
  },
  {
   "cell_type": "markdown",
   "metadata": {},
   "source": [
    "# Operators : -"
   ]
  },
  {
   "cell_type": "markdown",
   "metadata": {},
   "source": [
    "## Arithmetic operators \n",
    " * Addition operator :- \n",
    "     ```.py\n",
    "     c=a+b ```\n",
    " * Subtraction operator :-\n",
    "     ```.py\n",
    "     c=a-b ```\n",
    " * Multiplication operator :-\n",
    "     ```.py\n",
    "     c=a*b ```\n",
    " * Division operator :-\n",
    "     ```.py\n",
    "     c=a/b ```\n",
    " * Modulus operator :-\n",
    "     ```.py\n",
    "     c=a%b ```\n",
    " * Exponent operator :-\n",
    "     ```.py\n",
    "     c=a**b ```\n",
    " * Floor division operator :-\n",
    "     ```.py\n",
    "     c=a//b ```\n"
   ]
  },
  {
   "cell_type": "markdown",
   "metadata": {},
   "source": [
    "## *Comparison operators*\n",
    " * ==  :-   \n",
    "     ```.py\n",
    "     if(a==b) ```\n",
    " #### It compares the values of two variables\n",
    " * != :-  \n",
    "     ```.py\n",
    "     if(a!=b) ```\n",
    " #### It checks that the value of the two variable should be differnet\n",
    " * '>' :- \n",
    "     ```.py\n",
    "     if(a>b) ```\n",
    " #### cheks the greater value among the two \n",
    " * < :- \n",
    "     ``` .py\n",
    "     if(a<b) ```\n",
    " #### checks the smallest value among the two \n",
    " * '>=' :- \n",
    "     ``` .py\n",
    "     if(a>=b) ```\n",
    " #### checks the if the value is equal to or greater than the other value\n",
    " * <= :- \n",
    "     ```.py\n",
    "     if(a<=b) ```\n",
    " #### checks the if the value is equal to orsmaller than the other value"
   ]
  },
  {
   "cell_type": "markdown",
   "metadata": {},
   "source": [
    "## *Assignment operators*\n",
    "\n",
    " * = :-\n",
    "#### Equals to \n",
    "    ```.py\n",
    "    c=a+b ```\n",
    " * +=  : -\n",
    "####  adds right operand to the left operand and assign the result to left operand \n",
    "    ```.py\n",
    "    a+=b   is same as a = a+b ``` \n",
    " * -= \n",
    "#### subtracts right operand to the left operand and assign the result to left operand \n",
    "    ```.py\n",
    "    a-=b is same as a=a-b ```\n",
    " * *= \n",
    "#### multiplies right operand to the left operand and assign the result to left operand \n",
    "    ```.py \n",
    "    a*=b is same as a=a*b ```\n",
    " * /= \n",
    "#### divides right operand to the left operand and assign the result to left operand \n",
    "    ```.py \n",
    "    a/=b is same as a=a/b ```\n",
    " *  %= \n",
    "#### modulus of right operand to the left operand and assign the result to left operand \n",
    "    ```.py \n",
    "    a%=b is same as a=a%b```\n",
    " * **= \n",
    "#### exponent of right operand to the left operand and assign the result to left operand \n",
    "    ```.py\n",
    "    a-=b is same as a=a-b ```\n",
    " * //= \n",
    "#### floor division of right operand to the left operand and assign the result to left operand \n",
    "    ``` .py\n",
    "    a//=b is same as a=a//b ``` "
   ]
  },
  {
   "cell_type": "markdown",
   "metadata": {},
   "source": [
    "## *Logical Operators*\n",
    "\n",
    " * logical AND operator (and) : -\n",
    "    ```.py\n",
    "    if(a and b) ```\n",
    "    \n",
    "#### If both the operands are true then condition becomes true.\n",
    " * logical OR operator  (or) :- \n",
    "     ```.py\n",
    "     if(a or b) ```\n",
    "     \n",
    "#### If any of the two operands are non-zero then condition becomes true."
   ]
  },
  {
   "cell_type": "markdown",
   "metadata": {},
   "source": [
    "## Membership Operators\n",
    " * in :-\n",
    "     ```.py\n",
    "     if(a in b) ```\n",
    "####  \tEvaluates to true if it finds a variable in the specified sequence and false otherwise.\n",
    " * not in :-\n",
    "     ```.py\n",
    "     if(a not in b) ```\n",
    "#### Evaluates to true if it does not finds a variable in the specified sequence and false otherwise."
   ]
  },
  {
   "cell_type": "markdown",
   "metadata": {},
   "source": [
    "# Data Types \n",
    "## List, Tuple, Set, Dictionary "
   ]
  },
  {
   "cell_type": "markdown",
   "metadata": {},
   "source": [
    "# _Sets_ \n",
    "## _A collection of data which is unordered and unindexed._\n",
    "### how it is being written : -\n",
    "    set = {'set1', 'set2'}\n",
    "#### Some of the code snippet : "
   ]
  },
  {
   "cell_type": "code",
   "execution_count": 15,
   "metadata": {},
   "outputs": [
    {
     "name": "stdout",
     "output_type": "stream",
     "text": [
      "{'green', 'orange', 'blue', 'red'}\n",
      "4\n"
     ]
    }
   ],
   "source": [
    "colors={'red', 'blue', 'green','orange'}\n",
    "print(colors)\n",
    "print(len(colors)) #length of the set"
   ]
  },
  {
   "cell_type": "code",
   "execution_count": 16,
   "metadata": {},
   "outputs": [],
   "source": [
    "colors.remove('orange') # it is used to remove an element from the set\n",
    "colors.discard('orange') # it can aslo be used if remove doesn't work"
   ]
  },
  {
   "cell_type": "code",
   "execution_count": 17,
   "metadata": {},
   "outputs": [
    {
     "name": "stdout",
     "output_type": "stream",
     "text": [
      "{'green', 'blue', 'red'}\n"
     ]
    }
   ],
   "source": [
    "print(colors)"
   ]
  },
  {
   "cell_type": "code",
   "execution_count": 18,
   "metadata": {},
   "outputs": [],
   "source": [
    "var = colors.pop() # removes the last element from the set\n",
    "colors.clear() # it cleans and remove all the elements "
   ]
  },
  {
   "cell_type": "code",
   "execution_count": 19,
   "metadata": {},
   "outputs": [
    {
     "name": "stdout",
     "output_type": "stream",
     "text": [
      "set()\n"
     ]
    }
   ],
   "source": [
    "print(colors) # empty set"
   ]
  },
  {
   "cell_type": "code",
   "execution_count": 20,
   "metadata": {},
   "outputs": [
    {
     "name": "stdout",
     "output_type": "stream",
     "text": [
      "{'blue'}\n"
     ]
    }
   ],
   "source": [
    "colors.add('blue') # adds an element in the set\n",
    "print(colors)"
   ]
  },
  {
   "cell_type": "code",
   "execution_count": 21,
   "metadata": {},
   "outputs": [
    {
     "name": "stdout",
     "output_type": "stream",
     "text": [
      "{'a', 'd', 'c', 'h', 'f', 'e', 'g', 'b'}\n",
      "{'a', 'd', 'c', 'h', 'f', 'e', 'g', 'b'}\n"
     ]
    }
   ],
   "source": [
    "set_a = {'a','b','c','d'}\n",
    "set_b = {'e','f','g','h'}\n",
    "set_final = set_a.union(set_b) # join the 2 sets\n",
    "print(set_final)\n",
    "set_b.update(set_a) # moves the element of set_a to set_b\n",
    "print(set_b)"
   ]
  },
  {
   "cell_type": "markdown",
   "metadata": {},
   "source": [
    "# Tuple\n",
    "## A collection of data that is ordered and unchangeable\n",
    "###  how it is being written : - \n",
    "    tuple = ('tuple1', 'tuple2')\n",
    "### some of the code snippets :- "
   ]
  },
  {
   "cell_type": "code",
   "execution_count": 23,
   "metadata": {},
   "outputs": [
    {
     "name": "stdout",
     "output_type": "stream",
     "text": [
      "('black', 'red', 'blue', 'green')\n"
     ]
    }
   ],
   "source": [
    "color = ('black', 'red', 'blue', 'green')\n",
    "print(color)"
   ]
  },
  {
   "cell_type": "code",
   "execution_count": 24,
   "metadata": {},
   "outputs": [
    {
     "name": "stdout",
     "output_type": "stream",
     "text": [
      "red\n",
      "blue\n",
      "('blue', 'green')\n"
     ]
    }
   ],
   "source": [
    "print(color[1]) # to access a single element\n",
    "print(color[-2]) # to access a single element but with negative indexing\n",
    "print(color[2:5]) # to access multiple items"
   ]
  },
  {
   "cell_type": "markdown",
   "metadata": {},
   "source": [
    "#### to change the items in a tuple we can change the tuple to a list and then we can change it\n",
    "#### lets see the code snippet :-  "
   ]
  },
  {
   "cell_type": "code",
   "execution_count": 25,
   "metadata": {},
   "outputs": [
    {
     "name": "stdout",
     "output_type": "stream",
     "text": [
      "['black', 'changed', 'blue', 'green']\n"
     ]
    }
   ],
   "source": [
    "lst = list(color)\n",
    "lst[1] = 'changed'\n",
    "print(lst)"
   ]
  },
  {
   "cell_type": "markdown",
   "metadata": {},
   "source": [
    "# List \n",
    "## A collection of data which is ordered an changeable\n",
    "### how it is being written : \n",
    "    list=['list1', 'list2', 'list3']\n",
    "### Some of the code snippet is follows : -"
   ]
  },
  {
   "cell_type": "code",
   "execution_count": 26,
   "metadata": {},
   "outputs": [
    {
     "name": "stdout",
     "output_type": "stream",
     "text": [
      "['red', 'blue', 'green', 'orange', 'violet']\n"
     ]
    }
   ],
   "source": [
    "colours=['red', 'blue', 'green','orange', 'violet']\n",
    "print(colours)"
   ]
  },
  {
   "cell_type": "code",
   "execution_count": 27,
   "metadata": {},
   "outputs": [
    {
     "name": "stdout",
     "output_type": "stream",
     "text": [
      "green\n",
      "orange\n",
      "['green', 'orange', 'violet']\n",
      "['red', 'blue', 'green', 'orange']\n",
      "['red', 'blue', 'changed', 'orange', 'violet']\n"
     ]
    }
   ],
   "source": [
    "print(colours[2]) # to access a single element from the list \n",
    "print(colours[-2]) # same as before but it is termed as negative indexing as we use it to select the items from the end\n",
    "print(colours[2:5]) # is being used to select multiple items \n",
    "print(colours[:4]) # is used to select all the items up to the 5 th item ( as in python counting starts from 0 so n+1yh item)\n",
    "colours[2] = 'changed' # in this way we can change the values in a list\n",
    "print(colours)"
   ]
  },
  {
   "cell_type": "markdown",
   "metadata": {},
   "source": [
    "# Dictionaries\n",
    "### Its an unordered collection of data consists of key and value\n",
    "## Syntax : -\n",
    "    dic ={key : value, \n",
    "          key1 : value1\n",
    "          }\n",
    " ### some of the basic examples are : - "
   ]
  },
  {
   "cell_type": "code",
   "execution_count": 28,
   "metadata": {},
   "outputs": [
    {
     "name": "stdout",
     "output_type": "stream",
     "text": [
      "{'name': 'devbyte', 'members': 210, 'active': 'yes'}\n"
     ]
    }
   ],
   "source": [
    "p_info = {'name' : 'devbyte',      \n",
    "         'members' : 210,\n",
    "         'active' : 'yes'}         # we can write the dict in this way where 'name', 'members', 'active' are te keys \n",
    "print(p_info)"
   ]
  },
  {
   "cell_type": "code",
   "execution_count": 29,
   "metadata": {},
   "outputs": [
    {
     "name": "stdout",
     "output_type": "stream",
     "text": [
      "devbyte\n",
      "yes\n"
     ]
    }
   ],
   "source": [
    "print(p_info['name']) # it is used when we want the details of a specific key\n",
    "x=p_info.get('active') # get can also be used to access the elements \n",
    "print(x)"
   ]
  },
  {
   "cell_type": "code",
   "execution_count": 30,
   "metadata": {},
   "outputs": [
    {
     "name": "stdout",
     "output_type": "stream",
     "text": [
      "{'name': 'devbyte', 'members': 250, 'active': 'yes'}\n"
     ]
    }
   ],
   "source": [
    "p_info['members'] = 250 \n",
    "print(p_info)"
   ]
  },
  {
   "cell_type": "markdown",
   "metadata": {},
   "source": [
    "# Lambda \n",
    "## syntax :\n",
    "    lambda arguments : expression \n",
    "### It can take n number of arguments but can have only one expression \n",
    "### Below are some exaples of it "
   ]
  },
  {
   "cell_type": "code",
   "execution_count": 31,
   "metadata": {},
   "outputs": [
    {
     "name": "stdout",
     "output_type": "stream",
     "text": [
      "5\n"
     ]
    }
   ],
   "source": [
    "# using two variable \n",
    "x = lambda y,z : y + z # we are calling a lambda function with 2 arguments but with only one expression i,e + in thhis case\n",
    "print(x(2,3)) # inside the print function we are calling x and in x we are passing the value of y and z  "
   ]
  },
  {
   "cell_type": "markdown",
   "metadata": {},
   "source": [
    "# Functions\n",
    "### we define a function \n",
    "    def f_name(): \n",
    "        statements\n",
    "### where def is used to define a function and along with that 'f_name' is the function name \n",
    "### Below are some basics example of calling a function "
   ]
  },
  {
   "cell_type": "code",
   "execution_count": 32,
   "metadata": {},
   "outputs": [
    {
     "name": "stdout",
     "output_type": "stream",
     "text": [
      "Dev Byte\n"
     ]
    }
   ],
   "source": [
    "def fname(): # defining a function \n",
    "    print('Dev Byte')\n",
    "    \n",
    "fname()  # calling a function which results in running the code inside the function "
   ]
  },
  {
   "cell_type": "code",
   "execution_count": 33,
   "metadata": {},
   "outputs": [
    {
     "name": "stdout",
     "output_type": "stream",
     "text": [
      "Harry is a member of dev byte\n",
      "John is a member of dev byte\n"
     ]
    }
   ],
   "source": [
    "def fname(name):  # here we are calling a function with an argument while adding more than one argument separate them wit the help of ','(comma)\n",
    "    print(name + ' is a member of dev byte')\n",
    "fname('Harry')\n",
    "fname('John')"
   ]
  },
  {
   "cell_type": "code",
   "execution_count": 34,
   "metadata": {},
   "outputs": [
    {
     "name": "stdout",
     "output_type": "stream",
     "text": [
      "The youngest child is Linus\n"
     ]
    }
   ],
   "source": [
    "def my_function(*kids): \n",
    "    print(\"The youngest child is \" + kids[2])\n",
    "\n",
    "my_function(\"Emil\", \"Tobias\", \"Linus\") "
   ]
  },
  {
   "cell_type": "markdown",
   "metadata": {},
   "source": [
    "# Loops"
   ]
  },
  {
   "cell_type": "markdown",
   "metadata": {},
   "source": [
    "# While loop \n",
    "\n",
    "## Syntax of while loop \n",
    "    while(condition):\n",
    "        statements"
   ]
  },
  {
   "cell_type": "code",
   "execution_count": 35,
   "metadata": {},
   "outputs": [
    {
     "name": "stdout",
     "output_type": "stream",
     "text": [
      "the value is :  0\n",
      "the value is :  1\n",
      "the value is :  2\n",
      "the value is :  3\n",
      "the value is :  4\n",
      "the value is :  5\n",
      "the value is :  6\n",
      "the value is :  7\n",
      "the value is :  8\n",
      "the end \n"
     ]
    }
   ],
   "source": [
    "var=0 #lets take a variable which value is zero\n",
    "while(var < 9): # in the loop we are initialing some condition \n",
    "    print(\"the value is : \",var) # if condition is True then the following is printed\n",
    "    var+=1                  # increamenting the value by 1\n",
    "print(\"the end \") # after completion of the loop it will be printed "
   ]
  },
  {
   "cell_type": "markdown",
   "metadata": {},
   "source": [
    "# For loop\n",
    "## syntax : \n",
    "    for variable in range/array/list/tuple/dict.. :\n",
    "        statements"
   ]
  },
  {
   "cell_type": "code",
   "execution_count": 36,
   "metadata": {},
   "outputs": [
    {
     "name": "stdout",
     "output_type": "stream",
     "text": [
      "the value is  0\n",
      "the value is  1\n",
      "the value is  2\n",
      "the value is  3\n",
      "the value is  4\n"
     ]
    }
   ],
   "source": [
    "for i in range (5): #range is used when we have to define the limit for how many iteration the loop shold run\n",
    "    print('the value is ',i)"
   ]
  },
  {
   "cell_type": "code",
   "execution_count": 37,
   "metadata": {},
   "outputs": [
    {
     "name": "stdout",
     "output_type": "stream",
     "text": [
      "10\n",
      "11\n",
      "12\n",
      "13\n",
      "14\n"
     ]
    }
   ],
   "source": [
    "for x in range(10,15): # it specify the range i,e here the range is specified from 10 to 14\n",
    "    print(x)"
   ]
  },
  {
   "cell_type": "code",
   "execution_count": 38,
   "metadata": {},
   "outputs": [
    {
     "name": "stdout",
     "output_type": "stream",
     "text": [
      "red\n",
      "yellow\n",
      "orange\n"
     ]
    }
   ],
   "source": [
    "colours = ['red', 'yellow', 'orange']\n",
    "for i in colours: \n",
    "    print(i)"
   ]
  },
  {
   "cell_type": "code",
   "execution_count": 39,
   "metadata": {},
   "outputs": [
    {
     "name": "stdout",
     "output_type": "stream",
     "text": [
      "T\n",
      "h\n",
      "e\n",
      " \n",
      "D\n",
      "e\n",
      "v\n",
      " \n",
      "B\n",
      "y\n",
      "t\n",
      "e\n"
     ]
    }
   ],
   "source": [
    "c = 'The Dev Byte'\n",
    "for i in c: # it seperates each and every letter of the word  \n",
    "    print(i)"
   ]
  },
  {
   "cell_type": "markdown",
   "metadata": {},
   "source": [
    "# If Else \n",
    "### Recall the basic python conditions \n",
    "#### a = b ---------    a != b ----- a < b ---------    a > b ----- a <= b---------   a >= b\n",
    "\n",
    "## Syntax :\n",
    "    if conditions:\n",
    "        statements\n",
    "    else :\n",
    "        statements \n",
    "### Some of the basic examples are follows: -"
   ]
  },
  {
   "cell_type": "code",
   "execution_count": 40,
   "metadata": {},
   "outputs": [
    {
     "name": "stdout",
     "output_type": "stream",
     "text": [
      "not equal\n"
     ]
    }
   ],
   "source": [
    "a = 10     # defining a variable\n",
    "b = 20     # defining a variable\n",
    "if b < a:  # using if statement to check that is the condistion is true \n",
    "    print(True)  # if the condition is true enter the if statement\n",
    "elif a!=b:       # we can use it to check more than one condition individually     \n",
    "    print('not equal')\n",
    "else :           # if none of the conditions is not True then it comes here \n",
    "    print(False)"
   ]
  },
  {
   "cell_type": "code",
   "execution_count": 41,
   "metadata": {},
   "outputs": [
    {
     "name": "stdout",
     "output_type": "stream",
     "text": [
      "True\n"
     ]
    }
   ],
   "source": [
    "if(a < b and a!=b):  # we can use more than one condition using and & or\n",
    "    print(True)\n",
    "elif (a > b or a<20):\n",
    "    print('yes')\n",
    "else:\n",
    "    print(False)"
   ]
  },
  {
   "cell_type": "markdown",
   "metadata": {},
   "source": [
    "#### we can write the code in one line i,e : "
   ]
  },
  {
   "cell_type": "code",
   "execution_count": 42,
   "metadata": {},
   "outputs": [
    {
     "name": "stdout",
     "output_type": "stream",
     "text": [
      "True\n"
     ]
    }
   ],
   "source": [
    "print(True) if b > a else print(False)"
   ]
  },
  {
   "cell_type": "markdown",
   "metadata": {},
   "source": [
    "# randint() function \n",
    "### randint() is an inbuilt function of the random module in Python. The random module gives access to various useful functions and one of them being able to generate random numbers, which is randint().\n",
    "* **Syntax** : - \n",
    "    \n",
    "    ```.py\n",
    "    randint(start, end) ```\n",
    "#### *start is the starting point and end is the ending point and the function will give random numbers between the starting and the ending number*"
   ]
  },
  {
   "cell_type": "code",
   "execution_count": 43,
   "metadata": {},
   "outputs": [
    {
     "name": "stdout",
     "output_type": "stream",
     "text": [
      "9\n"
     ]
    }
   ],
   "source": [
    "import random # required to call the random function before calling randint\n",
    "a=random.randint(0, 10) # here any number between 0 to 9 will be called randomly\n",
    "print(a) "
   ]
  },
  {
   "cell_type": "markdown",
   "metadata": {},
   "source": [
    "# Exception Handling\n",
    "#### When an error occurs, or exception as we call it, Python will normally stop and generate an error message. These exceptions can be handled using the try statement."
   ]
  },
  {
   "cell_type": "code",
   "execution_count": 44,
   "metadata": {},
   "outputs": [
    {
     "name": "stdout",
     "output_type": "stream",
     "text": [
      "14\n"
     ]
    }
   ],
   "source": [
    "try:\n",
    "  print(x)\n",
    "except:\n",
    "  print(\"An exception occurred\")\n"
   ]
  },
  {
   "cell_type": "markdown",
   "metadata": {},
   "source": [
    "___Since the try block raises an error, the except block will be executed.___\n",
    "\n",
    "___Without the try block, the program will crash and raise an error:___"
   ]
  }
 ],
 "metadata": {
  "kernelspec": {
   "display_name": "Python 3.6.9 64-bit",
   "language": "python",
   "name": "python36964bitf63b11862b5b49fb80b3d6b9505d0be0"
  },
  "language_info": {
   "codemirror_mode": {
    "name": "ipython",
    "version": 3
   },
   "file_extension": ".py",
   "mimetype": "text/x-python",
   "name": "python",
   "nbconvert_exporter": "python",
   "pygments_lexer": "ipython3",
   "version": "3.6.9"
  },
  "varInspector": {
   "cols": {
    "lenName": 16,
    "lenType": 16,
    "lenVar": 40
   },
   "kernels_config": {
    "python": {
     "delete_cmd_postfix": "",
     "delete_cmd_prefix": "del ",
     "library": "var_list.py",
     "varRefreshCmd": "print(var_dic_list())"
    },
    "r": {
     "delete_cmd_postfix": ") ",
     "delete_cmd_prefix": "rm(",
     "library": "var_list.r",
     "varRefreshCmd": "cat(var_dic_list()) "
    }
   },
   "types_to_exclude": [
    "module",
    "function",
    "builtin_function_or_method",
    "instance",
    "_Feature"
   ],
   "window_display": false
  }
 },
 "nbformat": 4,
 "nbformat_minor": 4
}
